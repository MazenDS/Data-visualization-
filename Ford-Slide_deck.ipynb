{
 "cells": [
  {
   "cell_type": "markdown",
   "metadata": {},
   "source": [
    "# project overview "
   ]
  },
  {
   "cell_type": "markdown",
   "metadata": {},
   "source": [
    "mainly, This project will give the analyst insight on how to track the Data analysis process. From data wrangling until data visulization. Will look into the data to see : Highest months of riders , the busiest stations , and riders types and genders. "
   ]
  },
  {
   "cell_type": "markdown",
   "metadata": {},
   "source": [
    "# dataset overveiw \n"
   ]
  },
  {
   "cell_type": "markdown",
   "metadata": {},
   "source": [
    "The data has been downloade from https://s3.amazonaws.com/baywheels-data/index.html. It has 519700 trip with different features to give us better insight in how to read data. "
   ]
  },
  {
   "cell_type": "code",
   "execution_count": 1,
   "metadata": {},
   "outputs": [],
   "source": [
    "# import all required packages \n",
    "import numpy as np\n",
    "import pandas as pd\n",
    "import matplotlib.pyplot as plt\n",
    "import seaborn as sb\n",
    "import calendar\n",
    "import math\n",
    "import time\n",
    "\n",
    "%matplotlib inline"
   ]
  },
  {
   "cell_type": "code",
   "execution_count": 2,
   "metadata": {},
   "outputs": [],
   "source": [
    "df_top8 = pd.read_csv(\"2017-fordgobike-tripdata-clean.csv\")"
   ]
  },
  {
   "cell_type": "code",
   "execution_count": 3,
   "metadata": {},
   "outputs": [
    {
     "data": {
      "text/html": [
       "<div>\n",
       "<style scoped>\n",
       "    .dataframe tbody tr th:only-of-type {\n",
       "        vertical-align: middle;\n",
       "    }\n",
       "\n",
       "    .dataframe tbody tr th {\n",
       "        vertical-align: top;\n",
       "    }\n",
       "\n",
       "    .dataframe thead th {\n",
       "        text-align: right;\n",
       "    }\n",
       "</style>\n",
       "<table border=\"1\" class=\"dataframe\">\n",
       "  <thead>\n",
       "    <tr style=\"text-align: right;\">\n",
       "      <th></th>\n",
       "      <th>duration_sec</th>\n",
       "      <th>start_time</th>\n",
       "      <th>end_time</th>\n",
       "      <th>start_station_id</th>\n",
       "      <th>start_station_name</th>\n",
       "      <th>start_station_latitude</th>\n",
       "      <th>start_station_longitude</th>\n",
       "      <th>end_station_id</th>\n",
       "      <th>end_station_name</th>\n",
       "      <th>end_station_latitude</th>\n",
       "      <th>...</th>\n",
       "      <th>user_type</th>\n",
       "      <th>member_birth_year</th>\n",
       "      <th>member_gender</th>\n",
       "      <th>start_month_num</th>\n",
       "      <th>start_month_char</th>\n",
       "      <th>start_hour</th>\n",
       "      <th>period_day</th>\n",
       "      <th>start_weekday_num</th>\n",
       "      <th>start_weekday_char</th>\n",
       "      <th>age</th>\n",
       "    </tr>\n",
       "  </thead>\n",
       "  <tbody>\n",
       "    <tr>\n",
       "      <th>0</th>\n",
       "      <td>9226</td>\n",
       "      <td>2017-12-31 22:51:00.918</td>\n",
       "      <td>2018-01-01 01:24:47.166</td>\n",
       "      <td>1487</td>\n",
       "      <td>San Francisco Caltrain (Townsend St at 4th St)</td>\n",
       "      <td>37.776598</td>\n",
       "      <td>-122.395282</td>\n",
       "      <td>1487</td>\n",
       "      <td>San Francisco Caltrain (Townsend St at 4th St)</td>\n",
       "      <td>37.776598</td>\n",
       "      <td>...</td>\n",
       "      <td>Customer</td>\n",
       "      <td>NaN</td>\n",
       "      <td>NaN</td>\n",
       "      <td>12</td>\n",
       "      <td>Dec</td>\n",
       "      <td>22</td>\n",
       "      <td>night</td>\n",
       "      <td>6</td>\n",
       "      <td>Sun</td>\n",
       "      <td>NaN</td>\n",
       "    </tr>\n",
       "    <tr>\n",
       "      <th>1</th>\n",
       "      <td>2183</td>\n",
       "      <td>2017-12-31 23:52:55.581</td>\n",
       "      <td>2018-01-01 00:29:18.743</td>\n",
       "      <td>2311</td>\n",
       "      <td>San Francisco Caltrain Station 2  (Townsend St...</td>\n",
       "      <td>37.776639</td>\n",
       "      <td>-122.395526</td>\n",
       "      <td>2311</td>\n",
       "      <td>Spear St at Folsom St</td>\n",
       "      <td>37.789677</td>\n",
       "      <td>...</td>\n",
       "      <td>Subscriber</td>\n",
       "      <td>1990.0</td>\n",
       "      <td>Male</td>\n",
       "      <td>12</td>\n",
       "      <td>Dec</td>\n",
       "      <td>23</td>\n",
       "      <td>night</td>\n",
       "      <td>6</td>\n",
       "      <td>Sun</td>\n",
       "      <td>27.0</td>\n",
       "    </tr>\n",
       "    <tr>\n",
       "      <th>2</th>\n",
       "      <td>2170</td>\n",
       "      <td>2017-12-31 23:52:55.937</td>\n",
       "      <td>2018-01-01 00:29:06.924</td>\n",
       "      <td>3717</td>\n",
       "      <td>San Francisco Caltrain Station 2  (Townsend St...</td>\n",
       "      <td>37.776639</td>\n",
       "      <td>-122.395526</td>\n",
       "      <td>3717</td>\n",
       "      <td>Spear St at Folsom St</td>\n",
       "      <td>37.789677</td>\n",
       "      <td>...</td>\n",
       "      <td>Subscriber</td>\n",
       "      <td>1990.0</td>\n",
       "      <td>Male</td>\n",
       "      <td>12</td>\n",
       "      <td>Dec</td>\n",
       "      <td>23</td>\n",
       "      <td>night</td>\n",
       "      <td>6</td>\n",
       "      <td>Sun</td>\n",
       "      <td>27.0</td>\n",
       "    </tr>\n",
       "  </tbody>\n",
       "</table>\n",
       "<p>3 rows × 22 columns</p>\n",
       "</div>"
      ],
      "text/plain": [
       "   duration_sec               start_time                 end_time  \\\n",
       "0          9226  2017-12-31 22:51:00.918  2018-01-01 01:24:47.166   \n",
       "1          2183  2017-12-31 23:52:55.581  2018-01-01 00:29:18.743   \n",
       "2          2170  2017-12-31 23:52:55.937  2018-01-01 00:29:06.924   \n",
       "\n",
       "   start_station_id                                 start_station_name  \\\n",
       "0              1487     San Francisco Caltrain (Townsend St at 4th St)   \n",
       "1              2311  San Francisco Caltrain Station 2  (Townsend St...   \n",
       "2              3717  San Francisco Caltrain Station 2  (Townsend St...   \n",
       "\n",
       "   start_station_latitude  start_station_longitude  end_station_id  \\\n",
       "0               37.776598              -122.395282            1487   \n",
       "1               37.776639              -122.395526            2311   \n",
       "2               37.776639              -122.395526            3717   \n",
       "\n",
       "                                 end_station_name  end_station_latitude  ...  \\\n",
       "0  San Francisco Caltrain (Townsend St at 4th St)             37.776598  ...   \n",
       "1                           Spear St at Folsom St             37.789677  ...   \n",
       "2                           Spear St at Folsom St             37.789677  ...   \n",
       "\n",
       "    user_type  member_birth_year member_gender  start_month_num  \\\n",
       "0    Customer                NaN           NaN               12   \n",
       "1  Subscriber             1990.0          Male               12   \n",
       "2  Subscriber             1990.0          Male               12   \n",
       "\n",
       "  start_month_char  start_hour period_day  start_weekday_num  \\\n",
       "0              Dec          22      night                  6   \n",
       "1              Dec          23      night                  6   \n",
       "2              Dec          23      night                  6   \n",
       "\n",
       "  start_weekday_char   age  \n",
       "0                Sun   NaN  \n",
       "1                Sun  27.0  \n",
       "2                Sun  27.0  \n",
       "\n",
       "[3 rows x 22 columns]"
      ]
     },
     "execution_count": 3,
     "metadata": {},
     "output_type": "execute_result"
    }
   ],
   "source": [
    "df_top8.head(3)"
   ]
  },
  {
   "cell_type": "code",
   "execution_count": 4,
   "metadata": {},
   "outputs": [],
   "source": [
    "# convert time period, month, and weekday into ordered categorical types\n",
    "ordinal_var_dict = {'start_month_char': ['Jul','Aug','Sep','Oct','Nov','Dec'],\n",
    "                    'period_day': ['morning', 'afternoon', 'night'],\n",
    "                    'start_weekday_char': ['Mon', 'Tue', 'Wed', 'Thu', 'Fri', 'Sat', 'Sun']}\n",
    "\n",
    "for var in ordinal_var_dict:\n",
    "    ordered_var = pd.api.types.CategoricalDtype(ordered = True,\n",
    "                                                categories = ordinal_var_dict[var])\n",
    "    df_top8[var] = df_top8[var].astype(ordered_var)"
   ]
  },
  {
   "cell_type": "code",
   "execution_count": 5,
   "metadata": {},
   "outputs": [],
   "source": [
    "df_customer = df_top8.query('user_type == \"Customer\"')\n",
    "df_subscriber = df_top8.query('user_type == \"Subscriber\"')"
   ]
  },
  {
   "cell_type": "markdown",
   "metadata": {},
   "source": [
    "Lets get the busiest stations in the datset "
   ]
  },
  {
   "cell_type": "code",
   "execution_count": 7,
   "metadata": {},
   "outputs": [
    {
     "data": {
      "image/png": "[encoded data removed]",
      "text/plain": [
       "<Figure size 432x288 with 1 Axes>"
      ]
     },
     "metadata": {
      "needs_background": "light"
     },
     "output_type": "display_data"
    }
   ],
   "source": [
    "# lest plot the top 8 locations with traffic. \n",
    "st_stat_counts = df_top8['start_station_name'].value_counts()\n",
    "st_stat_order = st_stat_counts.index\n",
    "\n",
    "\n",
    "\n",
    "\n",
    "base_color = sb.color_palette()[0]\n",
    "sb.countplot(data=df_top8, y='start_station_name', color=base_color, order=st_stat_order)\n",
    "plt.xlabel('Count')\n",
    "plt.ylabel('Start Station Name')\n",
    "plt.title('Top 8 Stations with the most trips in SF');"
   ]
  },
  {
   "cell_type": "markdown",
   "metadata": {},
   "source": [
    "all this stations connected to transporartion and buisness area, but lets explore more by timing. "
   ]
  },
  {
   "cell_type": "code",
   "execution_count": 8,
   "metadata": {},
   "outputs": [
    {
     "data": {
      "image/png": "[encoded data removed]",
      "text/plain": [
       "<Figure size 576x720 with 3 Axes>"
      ]
     },
     "metadata": {
      "needs_background": "light"
     },
     "output_type": "display_data"
    }
   ],
   "source": [
    "# Time\n",
    "mon_cl = ['Jul','Aug','Sep','Oct','Nov','Dec']\n",
    "mon_cl2 = pd.api.types.CategoricalDtype(ordered=True, categories=mon_cl)\n",
    "df_top8['start_month_char'] = df_top8['start_month_char'].astype(mon_cl2)\n",
    "\n",
    "\n",
    "fig, ax = plt.subplots(nrows=3, figsize = [8,10])\n",
    "default_color = sb.color_palette()[0]\n",
    "sb.countplot(data = df_top8, x = 'start_month_char', color = default_color, ax = ax[0])\n",
    "sb.countplot(data = df_top8, x = 'period_day', color = default_color, ax = ax[1])\n",
    "sb.countplot(data = df_top8, x = 'start_weekday_char', color = default_color, ax = ax[2])\n",
    "ax[0].set_xlabel('Start Month')\n",
    "ax[0].set_ylabel('Count')\n",
    "ax[1].set_xlabel('Time of Day')\n",
    "ax[1].set_ylabel('Count')\n",
    "ax[2].set_xlabel('Start Weekday')\n",
    "ax[2].set_ylabel('Count')\n",
    "fig.suptitle('Number of trips in each time group');"
   ]
  },
  {
   "cell_type": "markdown",
   "metadata": {},
   "source": [
    "excatly as i guessed , its more during weekdays and working hours than night. Putting in considerations the season cold wheather will decrease the number of trips. "
   ]
  },
  {
   "cell_type": "code",
   "execution_count": 9,
   "metadata": {},
   "outputs": [
    {
     "data": {
      "image/png": "[encoded data removed]",
      "text/plain": [
       "<Figure size 576x432 with 1 Axes>"
      ]
     },
     "metadata": {
      "needs_background": "light"
     },
     "output_type": "display_data"
    }
   ],
   "source": [
    "# lets explore by ages. \n",
    "log_binsize = 0.025\n",
    "bins = 10 ** np.arange(1.2, np.log10(df_top8['age'].max())+log_binsize, log_binsize)\n",
    "\n",
    "plt.figure(figsize=[8, 6])\n",
    "plt.hist(data = df_top8, x = 'age', bins = bins)\n",
    "plt.xscale('log')\n",
    "plt.xticks([10,20,30,35,40,50,70,90,100], [10,20,30,35,40,50,70,90,100])\n",
    "plt.xlabel('Age (Year)')\n",
    "plt.ylabel('Count')\n",
    "plt.title('the old  distribution of Top 8 Stations');"
   ]
  },
  {
   "cell_type": "markdown",
   "metadata": {},
   "source": [
    "its very clear that young people the ages between 30 - 35 have highest range of riding. "
   ]
  },
  {
   "cell_type": "markdown",
   "metadata": {},
   "source": [
    "## Conculsion \n"
   ]
  },
  {
   "cell_type": "markdown",
   "metadata": {},
   "source": [
    "from the above analysis, we can see that males and young people are more into riding during week days , due to work reason and diffenetly the cost of transportation and traffic reason. "
   ]
  },
  {
   "cell_type": "code",
   "execution_count": null,
   "metadata": {},
   "outputs": [],
   "source": []
  }
 ],
 "metadata": {
  "kernelspec": {
   "display_name": "Python 3",
   "language": "python",
   "name": "python3"
  },
  "language_info": {
   "codemirror_mode": {
    "name": "ipython",
    "version": 3
   },
   "file_extension": ".py",
   "mimetype": "text/x-python",
   "name": "python",
   "nbconvert_exporter": "python",
   "pygments_lexer": "ipython3",
   "version": "3.7.3"
  }
 },
 "nbformat": 4,
 "nbformat_minor": 2
}
